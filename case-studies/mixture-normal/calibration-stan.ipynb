{
 "cells": [
  {
   "cell_type": "code",
   "execution_count": null,
   "metadata": {},
   "outputs": [],
   "source": [
    "import os, sys\n",
    "# for accessing src, stan, etc.\n",
    "sys.path.append(os.path.abspath(os.path.join(\"../..\")))\n",
    "\n",
    "\n",
    "import tensorflow as tf\n",
    "import bayesflow as bf\n",
    "import numpy as np\n",
    "import matplotlib.pyplot as plt\n",
    "\n",
    "\n",
    "from tensorflow.keras.layers import Dense, Lambda\n",
    "from tensorflow.keras.models import Sequential\n",
    "\n",
    "from bayesflow.trainers import Trainer\n",
    "from bayesflow.amortizers import AmortizedPosterior\n",
    "from bayesflow.networks import InvertibleNetwork\n",
    "from bayesflow.summary_networks import DeepSet, HierarchicalNetwork, SetTransformer\n",
    "\n",
    "from src.networks import AmortizedMixture, AmortizedPosteriorMixture\n",
    "from src.models.MixtureNormal import model, modelFixedContext, configurator, constrain_parameters, unconstrain_parameters, constrained_parameter_names, generate_fixed_dataset\n",
    "from amortizer import amortizer\n",
    "from cmdstanpy import CmdStanModel\n",
    "from logging import getLogger\n",
    "\n",
    "stan_logger = getLogger(\"cmdstanpy\")\n",
    "stan_logger.disabled = True"
   ]
  },
  {
   "cell_type": "code",
   "execution_count": null,
   "metadata": {},
   "outputs": [],
   "source": [
    "stan_model = CmdStanModel(stan_file=\"../../stan/mixture-normal.stan\")"
   ]
  },
  {
   "cell_type": "code",
   "execution_count": null,
   "metadata": {},
   "outputs": [],
   "source": [
    "true_params_unconstrained = np.array([[0, -0.5, -2.0, 0.45, 0.05]])\n",
    "true_params = constrain_parameters(true_params_unconstrained)\n",
    "\n",
    "df = modelFixedContext(n_obs=200, n_rep=5).simulator(true_params_unconstrained)\n",
    "df['prior_draws'] = true_params_unconstrained\n",
    "df['sim_non_batchable_context'] = np.array([100, 5])\n",
    "\n",
    "# reorder data points based on their means\n",
    "ind =df['sim_data'][:,:,:-1]\n",
    "ind = np.argsort(np.mean(ind, axis=-1)[0])\n",
    "df['sim_data'] = df['sim_data'][:,ind]\n",
    "\n",
    "df = configurator(df)\n",
    "\n",
    "observables = df['posterior_inputs']['summary_conditions'][0,...,0]\n",
    "means = np.array(np.mean(observables, axis=-1))\n",
    "latents = np.array(df['mixture_inputs']['latents'][0,0])\n",
    "\n",
    "stan_df = {\n",
    "    \"n_obs\": 200,\n",
    "    \"n_cls\": 3,\n",
    "    \"n_rep\": 5,\n",
    "    \"y\": observables,\n",
    "    \"mu_prior\": [-1.5, 0, 1.5],\n",
    "    \"mixture_prior\": [2, 2, 2]\n",
    "}"
   ]
  },
  {
   "cell_type": "code",
   "execution_count": null,
   "metadata": {},
   "outputs": [],
   "source": [
    "bf_unconstrained_posterior, bf_class_membership = amortizer.sample(df, n_samples=4000)\n",
    "bf_unconstrained_posterior = bf_unconstrained_posterior[0]\n",
    "bf_class_membership = bf_class_membership[0]\n",
    "bf_posterior = constrain_parameters(bf_unconstrained_posterior)"
   ]
  },
  {
   "cell_type": "code",
   "execution_count": null,
   "metadata": {},
   "outputs": [],
   "source": [
    "stan_fit = stan_model.sample(stan_df, show_progress=False)\n",
    "print(stan_fit.diagnose())"
   ]
  },
  {
   "cell_type": "code",
   "execution_count": null,
   "metadata": {},
   "outputs": [],
   "source": [
    "stan_posterior = stan_fit.draws_pd(vars = [\"p\", \"mu\"])\n",
    "stan_posterior = np.array(stan_posterior)"
   ]
  },
  {
   "cell_type": "code",
   "execution_count": null,
   "metadata": {},
   "outputs": [],
   "source": [
    "# if desired, test how the mixture network performs with the parameter samples from Stan\n",
    "# df['mixture_inputs']['parameters'] = np.expand_dims(unconstrain_parameters(stan_posterior), axis=0).astype(np.float32)\n",
    "# bf_class_membership = amortizer.amortized_mixture.sample(df['mixture_inputs'])\n",
    "# bf_class_membership = bf_class_membership[0]"
   ]
  },
  {
   "cell_type": "code",
   "execution_count": null,
   "metadata": {},
   "outputs": [],
   "source": [
    "fig, axs = plt.subplots(nrows=2, ncols=3)\n",
    "plt.rcParams['figure.figsize'] = [8, 6]\n",
    "\n",
    "axs = axs.flatten()\n",
    "\n",
    "bins = [\n",
    "    np.linspace(np.min(bf_posterior[:,i])-0.1, np.max(bf_posterior[:,i])+0.1, 36) for i in range(6)\n",
    "]\n",
    "for i, par in enumerate(constrained_parameter_names):\n",
    "    axs[i].hist(bf_posterior[:,i], bins=bins[i], alpha = 0.5, density=True, label=\"BayesFlow\")\n",
    "    axs[i].hist(stan_posterior[:,i], bins=bins[i], alpha = 0.5, density=True, label=\"Stan\")\n",
    "    axs[i].scatter(true_params[0,i], 0, color=\"red\", label=\"Truth\")\n",
    "    axs[i].set_title(par)\n",
    "\n",
    "axs[0].legend()\n",
    "fig.tight_layout()"
   ]
  },
  {
   "cell_type": "code",
   "execution_count": null,
   "metadata": {},
   "outputs": [],
   "source": [
    "stan_class_membership = stan_fit.stan_variables()[\"class_membership\"]\n",
    "\n",
    "losses = {\n",
    "    \"stan\": amortizer.amortized_mixture.loss(np.tile(np.expand_dims(latents, 0), (4000, 1, 1)), stan_class_membership),\n",
    "    \"bf\": amortizer.amortized_mixture.loss(np.tile(np.expand_dims(latents, 0), (4000, 1, 1)), bf_class_membership)\n",
    "}"
   ]
  },
  {
   "cell_type": "code",
   "execution_count": null,
   "metadata": {},
   "outputs": [],
   "source": [
    "fig, axs = plt.subplots(3, 2)\n",
    "plt.rcParams['figure.figsize'] = [8, 10]\n",
    "\n",
    "axs[0,0].hist(means, bins=30, density=True)\n",
    "\n",
    "axs[0,0].set_title(\"Observations\")\n",
    "axs[1,0].set_title(\"BayesFlow\")\n",
    "axs[2,0].set_title(\"Stan\")\n",
    "\n",
    "for cls in range(3):\n",
    "    axs[1,0].plot(means, np.median(bf_class_membership[...,cls], axis=0))\n",
    "    axs[1,0].fill_between(\n",
    "        means,\n",
    "        np.quantile(bf_class_membership[...,cls], q=0.025, axis=0),\n",
    "        np.quantile(bf_class_membership[...,cls], q=0.975, axis=0),\n",
    "        alpha=0.5\n",
    "    )\n",
    "\n",
    "    axs[2,0].plot(means, np.median(stan_class_membership[...,cls], axis=0),label=\"P(z={})\".format(cls+1))\n",
    "    axs[2,0].fill_between(\n",
    "        means,\n",
    "        np.quantile(stan_class_membership[...,cls], q=0.025, axis=0),\n",
    "        np.quantile(stan_class_membership[...,cls], q=0.975, axis=0),\n",
    "        alpha=0.5\n",
    "    )\n",
    "\n",
    "\n",
    "for cls in range(3):\n",
    "    axs[cls,1].set_title(\"P(z={})\".format(cls+1))\n",
    "    axs[cls,1].plot(means, np.median(bf_class_membership[...,cls], axis=0), label=\"BayesFlow\")\n",
    "    axs[cls,1].fill_between(\n",
    "        means,\n",
    "        np.quantile(bf_class_membership[...,cls], q=0.025, axis=0),\n",
    "        np.quantile(bf_class_membership[...,cls], q=0.975, axis=0),\n",
    "        alpha=0.5,\n",
    "        color=\"blue\"\n",
    "    )\n",
    "    \n",
    "    axs[cls,1].plot(means, np.median(stan_class_membership[...,cls], axis=0), label=\"Stan\")\n",
    "    axs[cls,1].fill_between(\n",
    "        means,\n",
    "        np.quantile(stan_class_membership[...,cls], q=0.025, axis=0),\n",
    "        np.quantile(stan_class_membership[...,cls], q=0.975, axis=0),\n",
    "        alpha=0.5,\n",
    "        color=\"orange\"\n",
    "    )\n",
    "axs[-1,0].set_xlabel(r\"$\\bar{x}$\")\n",
    "axs[-1,1].set_xlabel(r\"$\\bar{x}$\")\n",
    "\n",
    "\n",
    "axs[-1,0].legend()\n",
    "axs[-1,1].legend()\n",
    "fig.tight_layout()\n"
   ]
  }
 ],
 "metadata": {
  "kernelspec": {
   "display_name": ".venv",
   "language": "python",
   "name": "python3"
  },
  "language_info": {
   "codemirror_mode": {
    "name": "ipython",
    "version": 3
   },
   "file_extension": ".py",
   "mimetype": "text/x-python",
   "name": "python",
   "nbconvert_exporter": "python",
   "pygments_lexer": "ipython3",
   "version": "3.11.6"
  }
 },
 "nbformat": 4,
 "nbformat_minor": 2
}
