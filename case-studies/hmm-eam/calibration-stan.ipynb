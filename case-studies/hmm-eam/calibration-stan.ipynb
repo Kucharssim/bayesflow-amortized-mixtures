{
 "cells": [
  {
   "cell_type": "code",
   "execution_count": 3,
   "metadata": {},
   "outputs": [],
   "source": [
    "import os, sys\n",
    "# for accessing src, stan, etc.\n",
    "sys.path.append(os.path.abspath(os.path.join(\"../..\")))\n",
    "\n",
    "\n",
    "import tensorflow as tf\n",
    "import bayesflow as bf\n",
    "import numpy as np\n",
    "import matplotlib.pyplot as plt\n",
    "\n",
    "\n",
    "from tensorflow.keras.layers import Dense, Lambda\n",
    "from tensorflow.keras.models import Sequential\n",
    "\n",
    "from bayesflow.trainers import Trainer\n",
    "from bayesflow.amortizers import AmortizedPosterior\n",
    "from bayesflow.networks import InvertibleNetwork\n",
    "from bayesflow.summary_networks import DeepSet, HierarchicalNetwork, SetTransformer\n",
    "\n",
    "from src.networks import AmortizedMixture, AmortizedPosteriorMixture\n",
    "from src.models.HmmEam import model, configurator, constrain_parameters, constrained_parameter_names\n",
    "\n",
    "from cmdstanpy import CmdStanModel\n",
    "from logging import getLogger\n",
    "\n",
    "stan_logger = getLogger(\"cmdstanpy\")\n",
    "stan_logger.disabled = True"
   ]
  },
  {
   "cell_type": "code",
   "execution_count": 11,
   "metadata": {},
   "outputs": [],
   "source": [
    "stan_model = CmdStanModel(stan_file=\"../../stan/hmm-eam.stan\")"
   ]
  }
 ],
 "metadata": {
  "kernelspec": {
   "display_name": ".venv",
   "language": "python",
   "name": "python3"
  },
  "language_info": {
   "codemirror_mode": {
    "name": "ipython",
    "version": 3
   },
   "file_extension": ".py",
   "mimetype": "text/x-python",
   "name": "python",
   "nbconvert_exporter": "python",
   "pygments_lexer": "ipython3",
   "version": "3.11.6"
  }
 },
 "nbformat": 4,
 "nbformat_minor": 2
}
