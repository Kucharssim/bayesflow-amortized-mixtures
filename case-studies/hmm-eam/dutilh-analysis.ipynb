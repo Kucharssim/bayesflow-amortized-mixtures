{
 "cells": [
  {
   "cell_type": "code",
   "execution_count": 1,
   "metadata": {},
   "outputs": [
    {
     "name": "stderr",
     "output_type": "stream",
     "text": [
      "/Users/simonkucharsky/projects/bayesflow/amortized-mixture/.venv/lib/python3.11/site-packages/bayesflow/trainers.py:27: TqdmWarning: IProgress not found. Please update jupyter and ipywidgets. See https://ipywidgets.readthedocs.io/en/stable/user_install.html\n",
      "  from tqdm.autonotebook import tqdm\n",
      "INFO:root:Performing 2 pilot runs with the anonymous model...\n",
      "INFO:root:Shape of parameter batch after 2 pilot simulations: (batch_size = 2, 8)\n",
      "INFO:root:Shape of simulation batch after 2 pilot simulations: (batch_size = 2, 400, 3)\n",
      "INFO:root:No optional prior non-batchable context provided.\n",
      "INFO:root:No optional prior batchable context provided.\n",
      "INFO:root:No optional simulation non-batchable context provided.\n",
      "INFO:root:No optional simulation batchable context provided.\n"
     ]
    }
   ],
   "source": [
    "import os, sys\n",
    "# for accessing src, stan, etc.\n",
    "sys.path.append(os.path.abspath(os.path.join(\"../..\")))\n",
    "\n",
    "import os\n",
    "import pickle\n",
    "import numpy as np\n",
    "import matplotlib.pyplot as plt\n",
    "\n",
    "from src.models.HmmEam import model\n",
    "from helpers import *"
   ]
  },
  {
   "cell_type": "code",
   "execution_count": 2,
   "metadata": {},
   "outputs": [],
   "source": [
    "colors = {\n",
    "    \"Prior\": '#999999',\n",
    "    \"Stan\": '#7C0000',\n",
    "    \"BayesFlow\": '#005b96'\n",
    "}"
   ]
  },
  {
   "cell_type": "code",
   "execution_count": 3,
   "metadata": {},
   "outputs": [],
   "source": [
    "subjects = sorted(os.listdir(os.path.join('dutilh-resources', 'data')))\n",
    "subjects = [os.path.splitext(s)[0] for s in subjects]\n",
    "\n",
    "prior = model.prior(4000)['prior_draws']"
   ]
  },
  {
   "cell_type": "code",
   "execution_count": 4,
   "metadata": {},
   "outputs": [],
   "source": [
    "for subject in subjects:\n",
    "    rts, choices = get_data(subject)\n",
    "\n",
    "    bf_posterior, (bf_forward, bf_backward, bf_smoothing ) = get_bayesflow_samples(subject)\n",
    "    stan_posterior, stan_fit = get_stan_samples(subject)\n",
    "\n",
    "    forward = np.quantile(\n",
    "        np.array([stan_fit.stan_variable('filtering'), bf_forward]), \n",
    "        q=[0.005, 0.5, 0.995], axis=1\n",
    "    )\n",
    "\n",
    "    backward = np.quantile(\n",
    "        np.array([stan_fit.stan_variable('backward_filtering'), bf_backward]), \n",
    "        q=[0.005, 0.5, 0.995], axis=1\n",
    "    )\n",
    "\n",
    "    smoothing = np.quantile(\n",
    "        np.array([stan_fit.stan_variable('smoothing'), bf_smoothing]), \n",
    "        q=[0.005, 0.5, 0.995], axis=1\n",
    "    )\n",
    "\n",
    "    subject_folder = os.path.join('dutilh-results', subject)\n",
    "    os.makedirs(subject_folder, exist_ok=True)\n",
    "\n",
    "    fig, _ = plot_marginal_samples(Prior=prior, BayesFlow=bf_posterior, Stan=stan_posterior,\n",
    "                                   param_names=model.param_names['constrained'],\n",
    "                                   colors=colors)\n",
    "    plt.savefig(os.path.join(subject_folder, 'marginal-prior-posterior.png'), bbox_inches='tight')\n",
    "    plt.close()\n",
    "\n",
    "    fig, _ = plot_marginal_samples(BayesFlow=bf_posterior, Stan=stan_posterior,\n",
    "                                   param_names=model.param_names['constrained'],\n",
    "                                   colors=colors)\n",
    "    \n",
    "    plt.savefig(os.path.join(subject_folder, 'marginal-posterior.png'), bbox_inches='tight')\n",
    "    plt.close()\n",
    "\n",
    "    fig, _ = plot_joint_samples(Prior=prior, Stan=stan_posterior, BayesFlow=bf_posterior, \n",
    "                                param_names=model.param_names['constrained'], \n",
    "                                colors=colors)\n",
    "    plt.savefig(os.path.join(subject_folder, 'joint-prior-posterior.png'), bbox_inches='tight')\n",
    "    plt.close()\n",
    "\n",
    "    fig, _ = plot_joint_samples(Stan=stan_posterior, BayesFlow=bf_posterior,\n",
    "                                param_names=model.param_names['constrained'], \n",
    "                                colors=colors)\n",
    "    plt.savefig(os.path.join(subject_folder, 'joint-posterior.png'), bbox_inches='tight')\n",
    "    plt.close()\n",
    "\n",
    "    fig, _ = plot_joint_samples(Prior=prior, BayesFlow=bf_posterior,\n",
    "                                param_names=model.param_names['constrained'], \n",
    "                                colors=colors)\n",
    "    plt.savefig(os.path.join(subject_folder, 'joint-prior-posterior-bf.png'), bbox_inches='tight')\n",
    "    plt.close()\n",
    "\n",
    "    fig, _ = plot_joint_samples(Prior=prior, Stan=stan_posterior, \n",
    "                                param_names=model.param_names['constrained'], \n",
    "                                colors=colors)\n",
    "    plt.savefig(os.path.join(subject_folder, 'joint-prior-posterior-stan.png'), bbox_inches='tight')\n",
    "    plt.close()\n",
    "\n",
    "    fig, _ = plot_classification(forward, 'Filtering', colors)\n",
    "    plt.savefig(os.path.join(subject_folder, 'classification-filtering.png'), bbox_inches='tight')\n",
    "    plt.close()\n",
    "\n",
    "    fig, _ = plot_classification(backward, 'Backward Filtering', colors)\n",
    "    plt.savefig(os.path.join(subject_folder, 'classification-backward-filtering.png'), bbox_inches='tight')\n",
    "    plt.close()\n",
    "\n",
    "    fig, _ = plot_classification(smoothing, 'Smoothing', colors)\n",
    "    plt.savefig(os.path.join(subject_folder, 'classification-smoothing.png'), bbox_inches='tight')\n",
    "    plt.close()\n",
    "\n",
    "    fig, _ = plot_data(rts, choices)\n",
    "    plt.savefig(os.path.join(subject_folder, 'data.png'))\n",
    "    plt.close()\n",
    "\n",
    "    fig = plot_predictive_checks_histograms(bf_smoothing, bf_posterior, rts, choices)\n",
    "    plt.savefig(os.path.join(subject_folder, 'posterior-predictives-smoothing-bf.png'))\n",
    "    plt.close()\n",
    "\n",
    "    fig = plot_predictive_checks_histograms(stan_fit.stan_variable('smoothing'), stan_posterior, rts, choices)\n",
    "    plt.savefig(os.path.join(subject_folder, 'posterior-predictives-smoothing-stan.png'))\n",
    "    plt.close()"
   ]
  }
 ],
 "metadata": {
  "kernelspec": {
   "display_name": ".venv",
   "language": "python",
   "name": "python3"
  },
  "language_info": {
   "codemirror_mode": {
    "name": "ipython",
    "version": 3
   },
   "file_extension": ".py",
   "mimetype": "text/x-python",
   "name": "python",
   "nbconvert_exporter": "python",
   "pygments_lexer": "ipython3",
   "version": "3.11.6"
  }
 },
 "nbformat": 4,
 "nbformat_minor": 2
}
