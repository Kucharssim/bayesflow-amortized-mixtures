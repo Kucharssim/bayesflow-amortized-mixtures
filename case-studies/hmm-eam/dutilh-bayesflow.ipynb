{
 "cells": [
  {
   "cell_type": "code",
   "execution_count": 1,
   "metadata": {},
   "outputs": [
    {
     "name": "stderr",
     "output_type": "stream",
     "text": [
      "/Users/simonkucharsky/projects/bayesflow/amortized-mixture/.venv/lib/python3.11/site-packages/bayesflow/trainers.py:27: TqdmWarning: IProgress not found. Please update jupyter and ipywidgets. See https://ipywidgets.readthedocs.io/en/stable/user_install.html\n",
      "  from tqdm.autonotebook import tqdm\n",
      "INFO:root:Performing 2 pilot runs with the anonymous model...\n",
      "INFO:root:Shape of parameter batch after 2 pilot simulations: (batch_size = 2, 8)\n",
      "INFO:root:Shape of simulation batch after 2 pilot simulations: (batch_size = 2, 400, 3)\n",
      "INFO:root:No optional prior non-batchable context provided.\n",
      "INFO:root:No optional prior batchable context provided.\n",
      "INFO:root:No optional simulation non-batchable context provided.\n",
      "INFO:root:No optional simulation batchable context provided.\n",
      "INFO:root:Loaded loss history from checkpoints/amortizer/history_100.pkl.\n",
      "INFO:root:Networks loaded from checkpoints/amortizer/ckpt-100\n",
      "INFO:root:Performing a consistency check with provided components...\n",
      "INFO:root:Done.\n"
     ]
    }
   ],
   "source": [
    "import os, sys\n",
    "# for accessing src, stan, etc.\n",
    "sys.path.append(os.path.abspath(os.path.join(\"../..\")))\n",
    "\n",
    "import numpy as np\n",
    "import tensorflow as tf\n",
    "import pickle\n",
    "\n",
    "from amortizer import amortizer\n",
    "from src.models.HmmEam import constrain_parameters\n",
    "\n",
    "from pandas import read_csv"
   ]
  },
  {
   "cell_type": "code",
   "execution_count": 2,
   "metadata": {},
   "outputs": [],
   "source": [
    "def get_summary_conditions(subject):\n",
    "    path = os.path.join('dutilh-resources', 'data', subject) + '.csv'\n",
    "    df = read_csv(path)\n",
    "    df = np.array(df)\n",
    "    df = df[:400,...]\n",
    "\n",
    "    rts = df[:,1:2].astype(np.float32)\n",
    "    choice = np.abs(df[:,2]-3)\n",
    "    responses = tf.one_hot(choice-1, 2)\n",
    "\n",
    "    summary_conditions = tf.concat([rts, responses], axis=-1)\n",
    "    summary_conditions = tf.expand_dims(summary_conditions, axis=0)\n",
    "\n",
    "    return summary_conditions\n",
    "\n",
    "def configure_data(subject):\n",
    "    summary_conditions = get_summary_conditions(subject)\n",
    "\n",
    "    output = {\n",
    "        \"posterior_inputs\": {\n",
    "            \"summary_conditions\": summary_conditions\n",
    "        },\n",
    "        \"mixture_inputs\": {\n",
    "            \"summary_conditions\": summary_conditions\n",
    "        }\n",
    "    }\n",
    "    return output\n",
    "\n",
    "def sample(subject):\n",
    "    input = configure_data(subject)\n",
    "    unconstrained_posterior, classification = amortizer.sample(input, n_samples=4000)\n",
    "    rts = input['posterior_inputs']['summary_conditions'][..., 0]\n",
    "    posterior = constrain_parameters(unconstrained_posterior, rts)\n",
    "\n",
    "    return posterior, classification"
   ]
  },
  {
   "cell_type": "code",
   "execution_count": 3,
   "metadata": {},
   "outputs": [],
   "source": [
    "subjects = sorted(os.listdir(os.path.join('dutilh-resources', 'data')))\n",
    "subjects = [os.path.splitext(s)[0] for s in subjects]"
   ]
  },
  {
   "cell_type": "code",
   "execution_count": 4,
   "metadata": {},
   "outputs": [],
   "source": [
    "for subject in subjects:\n",
    "    df = configure_data(subject)\n",
    "    fit = sample(subject)\n",
    "\n",
    "    with open(os.path.join('dutilh-resources', 'bayesflow-fits', subject) + '.pkl', 'wb') as f:\n",
    "        pickle.dump(fit, f)"
   ]
  }
 ],
 "metadata": {
  "kernelspec": {
   "display_name": ".venv",
   "language": "python",
   "name": "python3"
  },
  "language_info": {
   "codemirror_mode": {
    "name": "ipython",
    "version": 3
   },
   "file_extension": ".py",
   "mimetype": "text/x-python",
   "name": "python",
   "nbconvert_exporter": "python",
   "pygments_lexer": "ipython3",
   "version": "3.11.6"
  }
 },
 "nbformat": 4,
 "nbformat_minor": 2
}
