{
 "cells": [
  {
   "cell_type": "code",
   "execution_count": 1,
   "metadata": {},
   "outputs": [
    {
     "name": "stderr",
     "output_type": "stream",
     "text": [
      "/Users/simonkucharsky/projects/bayesflow/amortized-mixture/.venv/lib/python3.11/site-packages/bayesflow/trainers.py:27: TqdmWarning: IProgress not found. Please update jupyter and ipywidgets. See https://ipywidgets.readthedocs.io/en/stable/user_install.html\n",
      "  from tqdm.autonotebook import tqdm\n",
      "INFO:root:Performing 2 pilot runs with the anonymous model...\n",
      "INFO:root:Shape of parameter batch after 2 pilot simulations: (batch_size = 2, 8)\n",
      "INFO:root:Shape of simulation batch after 2 pilot simulations: (batch_size = 2, 400, 3)\n",
      "INFO:root:No optional prior non-batchable context provided.\n",
      "INFO:root:No optional prior batchable context provided.\n",
      "INFO:root:No optional simulation non-batchable context provided.\n",
      "INFO:root:No optional simulation batchable context provided.\n",
      "INFO:root:Loaded loss history from checkpoints/amortizer/history_100.pkl.\n",
      "INFO:root:Networks loaded from checkpoints/amortizer/ckpt-100\n",
      "INFO:root:Performing a consistency check with provided components...\n",
      "INFO:root:Done.\n"
     ]
    }
   ],
   "source": [
    "import os, sys\n",
    "# for accessing src, stan, etc.\n",
    "sys.path.append(os.path.abspath(os.path.join(\"../..\")))\n",
    "\n",
    "import numpy as np\n",
    "import tensorflow as tf\n",
    "import matplotlib.pyplot as plt\n",
    "from matplotlib import cm\n",
    "\n",
    "import pickle\n",
    "\n",
    "from arviz import psislw\n",
    "\n",
    "from amortizer import amortizer, trainer\n",
    "from src.models.HmmEam import unconstrain_parameters\n",
    "\n",
    "from pandas import read_csv\n",
    "\n",
    "from cmdstanpy import CmdStanModel\n",
    "from logging import getLogger\n",
    "\n",
    "stan_logger = getLogger(\"cmdstanpy\")\n",
    "stan_logger.disabled = True\n",
    "\n",
    "from helpers import compute_true_log_prob, get_bayesflow_samples, get_stan_samples"
   ]
  },
  {
   "cell_type": "code",
   "execution_count": 2,
   "metadata": {},
   "outputs": [],
   "source": [
    "stan_model = CmdStanModel(stan_file=\"../../stan/hmm-eam.stan\")"
   ]
  },
  {
   "cell_type": "code",
   "execution_count": 8,
   "metadata": {},
   "outputs": [],
   "source": [
    "with open(os.path.join('dutilh-resources', 'psis') + '.pkl', 'rb') as f:\n",
    "    psis=pickle.load(f)"
   ]
  },
  {
   "cell_type": "code",
   "execution_count": 37,
   "metadata": {},
   "outputs": [],
   "source": [
    "subject = \"subject-b\"\n",
    "\n",
    "\n",
    "(pareto_weights, pareto_k) = psis[subject]\n",
    "pareto_weights = np.exp(pareto_weights)\n",
    "bf_posterior_constrained, _ = get_bayesflow_samples(subject)\n",
    "stan_posterior, stan_fit = get_stan_samples(subject)"
   ]
  },
  {
   "cell_type": "code",
   "execution_count": 38,
   "metadata": {},
   "outputs": [],
   "source": [
    "def weighted_quantile(data, quantiles, weights=None, axis=None):\n",
    "    \"\"\"\n",
    "    Compute weighted quantiles along a specified axis.\n",
    "    \n",
    "    Parameters:\n",
    "    - data: array-like, the data points, can be multi-dimensional.\n",
    "    - quantiles: array-like or float, quantiles to compute (0 <= quantile <= 1)\n",
    "    - weights: array-like, weights for each data point, must be broadcastable to `data`.\n",
    "    - axis: int, the axis along which to calculate quantiles. If None, the entire array is flattened.\n",
    "    \n",
    "    Returns:\n",
    "    - Array of quantiles corresponding to the input quantiles along the specified axis.\n",
    "    \"\"\"\n",
    "    data = np.asarray(data)\n",
    "    quantiles = np.atleast_1d(quantiles)\n",
    "    \n",
    "    if weights is None:\n",
    "        weights = np.ones_like(data)\n",
    "    else:\n",
    "        weights = np.asarray(weights)\n",
    "\n",
    "    # Flatten if axis is None\n",
    "    if axis is None:\n",
    "        data = data.ravel()\n",
    "        weights = weights.ravel()\n",
    "        sorter = np.argsort(data)\n",
    "        data_sorted = data[sorter]\n",
    "        weights_sorted = weights[sorter]\n",
    "        \n",
    "        weighted_cumsum = np.cumsum(weights_sorted)\n",
    "        cumulative_distribution = weighted_cumsum / weighted_cumsum[-1]\n",
    "        \n",
    "        return np.interp(quantiles, cumulative_distribution, data_sorted)\n",
    "    \n",
    "    # Move axis to the last dimension for easier manipulation\n",
    "    data = np.moveaxis(data, axis, -1)\n",
    "    weights = np.moveaxis(weights, axis, -1)\n",
    "    \n",
    "    # Output array for the quantiles along the specified axis\n",
    "    output_shape = data.shape[:-1] + quantiles.shape\n",
    "    quantile_values = np.empty(output_shape)\n",
    "    \n",
    "    # Iterate over each \"slice\" along the specified axis\n",
    "    for idx in np.ndindex(data.shape[:-1]):\n",
    "        d = data[idx]\n",
    "        w = weights[idx]\n",
    "        \n",
    "        sorter = np.argsort(d)\n",
    "        d_sorted = d[sorter]\n",
    "        w_sorted = w[sorter]\n",
    "        \n",
    "        weighted_cumsum = np.cumsum(w_sorted)\n",
    "        cumulative_distribution = weighted_cumsum / weighted_cumsum[-1]\n",
    "        \n",
    "        # Compute the quantiles for this slice\n",
    "        quantile_values[idx] = np.interp(quantiles, cumulative_distribution, d_sorted)\n",
    "    \n",
    "    return quantile_values"
   ]
  },
  {
   "cell_type": "code",
   "execution_count": 39,
   "metadata": {},
   "outputs": [
    {
     "data": {
      "text/plain": [
       "(4000, 8)"
      ]
     },
     "execution_count": 39,
     "metadata": {},
     "output_type": "execute_result"
    }
   ],
   "source": [
    "np.tile(pareto_weights[...,np.newaxis], [1, 8]).shape"
   ]
  },
  {
   "cell_type": "code",
   "execution_count": 47,
   "metadata": {},
   "outputs": [
    {
     "data": {
      "text/plain": [
       "array([[0.81494041, 0.83706266, 0.85752156],\n",
       "       [0.89802672, 0.91129568, 0.92216726],\n",
       "       [0.54154158, 0.59219605, 0.64885466],\n",
       "       [1.77536628, 1.83388233, 1.89594609],\n",
       "       [6.24794662, 6.69316697, 7.16236413],\n",
       "       [2.05940413, 2.22133255, 2.38443643],\n",
       "       [4.54045141, 4.69946814, 4.86054373],\n",
       "       [0.15805977, 0.1619685 , 0.16517331]])"
      ]
     },
     "execution_count": 47,
     "metadata": {},
     "output_type": "execute_result"
    }
   ],
   "source": [
    "bf_summary = np.quantile(bf_posterior_constrained, q=[0.25, 0.5, 0.75], axis=0)\n",
    "\n",
    "bf_summary.transpose()"
   ]
  },
  {
   "cell_type": "code",
   "execution_count": 50,
   "metadata": {},
   "outputs": [
    {
     "data": {
      "text/plain": [
       "array([[0.82310733, 0.84516765, 0.86488068],\n",
       "       [0.8972224 , 0.9097957 , 0.92011387],\n",
       "       [0.5608976 , 0.60492218, 0.65757821],\n",
       "       [1.73798321, 1.80164185, 1.86562208],\n",
       "       [6.4398437 , 6.95409678, 7.44335681],\n",
       "       [1.96821962, 2.13216524, 2.328336  ],\n",
       "       [4.45141194, 4.60908118, 4.78137315],\n",
       "       [0.1607177 , 0.16387721, 0.16667608]])"
      ]
     },
     "execution_count": 50,
     "metadata": {},
     "output_type": "execute_result"
    }
   ],
   "source": [
    "bf_weighted_summary =weighted_quantile(bf_posterior_constrained, quantiles=[0.25, 0.5, 0.75], weights=np.tile(pareto_weights[...,np.newaxis], [1, 8]), axis=0)\n",
    "\n",
    "bf_weighted_summary"
   ]
  },
  {
   "cell_type": "code",
   "execution_count": 51,
   "metadata": {},
   "outputs": [
    {
     "data": {
      "text/plain": [
       "array([[0.81549875, 0.8368005 , 0.8565375 ],\n",
       "       [0.892785  , 0.9063045 , 0.918711  ],\n",
       "       [0.59447425, 0.637871  , 0.6883675 ],\n",
       "       [1.769865  , 1.825405  , 1.884475  ],\n",
       "       [6.7258575 , 7.183355  , 7.6277625 ],\n",
       "       [2.019365  , 2.17583   , 2.34832   ],\n",
       "       [4.502875  , 4.662445  , 4.81598   ],\n",
       "       [0.15753725, 0.160889  , 0.16370075]])"
      ]
     },
     "execution_count": 51,
     "metadata": {},
     "output_type": "execute_result"
    }
   ],
   "source": [
    "stan_summary = np.quantile(stan_posterior, q=[0.25, 0.5, 0.75], axis=0)\n",
    "\n",
    "stan_summary.transpose()"
   ]
  },
  {
   "cell_type": "code",
   "execution_count": 52,
   "metadata": {},
   "outputs": [
    {
     "data": {
      "text/plain": [
       "array([0.8353144 , 0.90955687, 0.5995621 , 1.8362081 , 6.6981845 ,\n",
       "       2.2226598 , 4.699826  , 0.16116814], dtype=float32)"
      ]
     },
     "execution_count": 52,
     "metadata": {},
     "output_type": "execute_result"
    }
   ],
   "source": [
    "np.average(bf_posterior_constrained, axis=0)"
   ]
  },
  {
   "cell_type": "code",
   "execution_count": 53,
   "metadata": {},
   "outputs": [
    {
     "data": {
      "text/plain": [
       "array([0.84284277, 0.9082995 , 0.61198295, 1.80576722, 6.9663165 ,\n",
       "       2.13913637, 4.62469883, 0.16350607])"
      ]
     },
     "execution_count": 53,
     "metadata": {},
     "output_type": "execute_result"
    }
   ],
   "source": [
    "np.average(bf_posterior_constrained, axis=0, weights=pareto_weights)"
   ]
  },
  {
   "cell_type": "code",
   "execution_count": 54,
   "metadata": {},
   "outputs": [
    {
     "data": {
      "text/plain": [
       "array([0.83487693, 0.90529691, 0.64435895, 1.8285609 , 7.17928058,\n",
       "       2.18130065, 4.6612095 , 0.16027329])"
      ]
     },
     "execution_count": 54,
     "metadata": {},
     "output_type": "execute_result"
    }
   ],
   "source": [
    "np.average(stan_posterior, axis=0)"
   ]
  },
  {
   "cell_type": "code",
   "execution_count": 76,
   "metadata": {},
   "outputs": [
    {
     "data": {
      "image/png": "[encoded data removed]",
      "text/plain": [
       "<Figure size 640x480 with 8 Axes>"
      ]
     },
     "metadata": {},
     "output_type": "display_data"
    }
   ],
   "source": [
    "fig, axs = plt.subplots(2, 4)\n",
    "axs = axs.flatten()\n",
    "\n",
    "for i in range(8):\n",
    "    bins = np.linspace(np.min(stan_posterior[:,i]), np.max(stan_posterior[:,i]), 21)\n",
    "\n",
    "    #axs[i].hist(bf_posterior_constrained[:,i], density=True, bins=bins, color=\"gray\", alpha=0.5)\n",
    "    axs[i].hist(bf_posterior_constrained[:,i], density=True, bins=bins, color=\"blue\", alpha=0.5, weights=pareto_weights)\n",
    "    axs[i].hist(stan_posterior[:,i], density=True, bins=bins, color=\"green\", alpha=0.5)\n",
    "    axs[i].set_title(trainer.generative_model.param_names['constrained'][i])\n",
    "\n",
    "fig.tight_layout()"
   ]
  },
  {
   "cell_type": "code",
   "execution_count": 62,
   "metadata": {},
   "outputs": [
    {
     "ename": "NameError",
     "evalue": "name 'bins' is not defined",
     "output_type": "error",
     "traceback": [
      "\u001b[0;31m---------------------------------------------------------------------------\u001b[0m",
      "\u001b[0;31mNameError\u001b[0m                                 Traceback (most recent call last)",
      "Cell \u001b[0;32mIn[62], line 1\u001b[0m\n\u001b[0;32m----> 1\u001b[0m \u001b[43mbins\u001b[49m\n",
      "\u001b[0;31mNameError\u001b[0m: name 'bins' is not defined"
     ]
    }
   ],
   "source": [
    "bins"
   ]
  }
 ],
 "metadata": {
  "kernelspec": {
   "display_name": ".venv",
   "language": "python",
   "name": "python3"
  },
  "language_info": {
   "codemirror_mode": {
    "name": "ipython",
    "version": 3
   },
   "file_extension": ".py",
   "mimetype": "text/x-python",
   "name": "python",
   "nbconvert_exporter": "python",
   "pygments_lexer": "ipython3",
   "version": "3.11.6"
  }
 },
 "nbformat": 4,
 "nbformat_minor": 2
}
