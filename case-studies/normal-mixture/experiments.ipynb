{
 "cells": [
  {
   "cell_type": "code",
   "execution_count": 1,
   "metadata": {},
   "outputs": [
    {
     "name": "stderr",
     "output_type": "stream",
     "text": [
      "/Users/simonkucharsky/projects/bayesflow/amortized-mixture/.venv/lib/python3.11/site-packages/bayesflow/trainers.py:27: TqdmWarning: IProgress not found. Please update jupyter and ipywidgets. See https://ipywidgets.readthedocs.io/en/stable/user_install.html\n",
      "  from tqdm.autonotebook import tqdm\n"
     ]
    }
   ],
   "source": [
    "import os, sys\n",
    "# for accessing src, stan, etc.\n",
    "sys.path.append(os.path.abspath(os.path.join(\"../..\")))\n",
    "\n",
    "import bayesflow as bf\n",
    "import numpy as np\n",
    "import matplotlib.pyplot as plt\n",
    "from cmdstanpy import CmdStanModel\n",
    "from src.AmortizedMixture import *\n",
    "from src.models.NormalMixture import *\n",
    "from src.helpers import *"
   ]
  },
  {
   "cell_type": "code",
   "execution_count": 2,
   "metadata": {},
   "outputs": [],
   "source": [
    "# load the generative model\n",
    "model = NormalMixture(n_cls=2, n_obs=[30, 220], n_rep=[1,10], separation=3.0, seed=1)\n",
    "model.prior_means = [0.00, -1.5, 1.00]\n",
    "model.prior_sds   = [1.14,  1.0, 0.65]"
   ]
  },
  {
   "cell_type": "markdown",
   "metadata": {},
   "source": [
    "# Load pretrained amortizers\n",
    "\n",
    "## Load Amortized Mixture"
   ]
  },
  {
   "cell_type": "code",
   "execution_count": 3,
   "metadata": {},
   "outputs": [
    {
     "name": "stderr",
     "output_type": "stream",
     "text": [
      "INFO:root:Loaded loss history from checkpoints/mixture/history_100.pkl.\n",
      "INFO:root:Networks loaded from checkpoints/mixture/ckpt-100\n",
      "INFO:root:Performing a consistency check with provided components...\n",
      "INFO:root:Done.\n"
     ]
    }
   ],
   "source": [
    "mixture = bf.trainers.Trainer(\n",
    "    amortizer=AmortizedMixture(\n",
    "        inference_net=IndependentClassificator(num_outputs=model.n_cls, num_dense=8, dropout=False),\n",
    "        local_summary_net  = bf.networks.DeepSet(summary_dim=1),\n",
    "        global_summary_net = bf.networks.SetTransformer(input_dim=1, summary_dim=model.n_par*2)\n",
    "        ), \n",
    "    generative_model=model, \n",
    "    configurator=lambda x: x, checkpoint_path=\"checkpoints/mixture\")"
   ]
  },
  {
   "cell_type": "markdown",
   "metadata": {},
   "source": [
    "## Load Amortized Posterior "
   ]
  },
  {
   "cell_type": "code",
   "execution_count": 4,
   "metadata": {},
   "outputs": [
    {
     "name": "stderr",
     "output_type": "stream",
     "text": [
      "INFO:root:Loaded loss history from checkpoints/posterior/history_50.pkl.\n",
      "INFO:root:Networks loaded from checkpoints/posterior/ckpt-50\n",
      "INFO:root:Performing a consistency check with provided components...\n",
      "INFO:root:Done.\n"
     ]
    }
   ],
   "source": [
    "posterior=bf.trainers.Trainer(\n",
    "    amortizer=bf.amortizers.AmortizedPosterior(\n",
    "            inference_net=bf.networks.InvertibleNetwork(num_params=model.n_par, num_coupling_layers=10, coupling_design=\"spline\"), \n",
    "            summary_net=bf.networks.HierarchicalNetwork(\n",
    "                [bf.networks.DeepSet(summary_dim=1), \n",
    "                 bf.networks.SetTransformer(input_dim=1, summary_dim=model.n_par*2)]\n",
    "            ),\n",
    "            summary_loss_fun=\"MMD\"\n",
    "    ),\n",
    "    generative_model=model,\n",
    "    configurator=lambda x: x, \n",
    "    checkpoint_path=\"checkpoints/posterior\"\n",
    ")"
   ]
  },
  {
   "cell_type": "markdown",
   "metadata": {},
   "source": [
    "## Load Amortized Mixture Posterior"
   ]
  },
  {
   "cell_type": "code",
   "execution_count": 5,
   "metadata": {},
   "outputs": [
    {
     "name": "stderr",
     "output_type": "stream",
     "text": [
      "INFO:root:Loaded loss history from checkpoints/mixture_posterior/history_100.pkl.\n",
      "INFO:root:Networks loaded from checkpoints/mixture_posterior/ckpt-100\n",
      "INFO:root:Performing a consistency check with provided components...\n",
      "INFO:root:Done.\n"
     ]
    }
   ],
   "source": [
    "local_summary_net = bf.networks.DeepSet(summary_dim=1)\n",
    "mixture_posterior = bf.trainers.Trainer(\n",
    "    amortizer=AmortizedMixturePosterior(\n",
    "        amortized_mixture=AmortizedMixture(\n",
    "            inference_net=IndependentClassificator(num_outputs=model.n_cls, num_dense=12, dropout=False),\n",
    "            local_summary_net=local_summary_net\n",
    "        ),\n",
    "        amortized_posterior=bf.amortizers.AmortizedPosterior(\n",
    "            inference_net=bf.networks.InvertibleNetwork(num_params=model.n_par, num_coupling_layers=12, coupling_design=\"spline\"), \n",
    "            summary_net=bf.networks.HierarchicalNetwork(\n",
    "                [local_summary_net, \n",
    "                  bf.networks.SetTransformer(input_dim=1, summary_dim=model.n_par*2)]\n",
    "                )\n",
    "        )\n",
    "    ), \n",
    "    generative_model=model, \n",
    "    configurator=lambda x: x, \n",
    "    checkpoint_path=\"checkpoints/mixture_posterior\")"
   ]
  },
  {
   "cell_type": "markdown",
   "metadata": {},
   "source": [
    "## Experiment: Calibration of classification probabilities"
   ]
  },
  {
   "cell_type": "code",
   "execution_count": 48,
   "metadata": {},
   "outputs": [],
   "source": [
    "# generate synthetic data from a normal mixture with \n",
    "parameters = {\n",
    "    \"p\": np.array([0.4, 0.6]),\n",
    "    \"mu\": np.array([-1.2, 0.5])\n",
    "}\n",
    "context = {\n",
    "    \"n_obs\": 100,\n",
    "    \"n_rep\": 1\n",
    "}\n",
    "latents, observables = model._simulator(\n",
    "    parameters=parameters, \n",
    "    context=context).values()\n",
    "\n",
    "# let's order the observables\n",
    "ind = np.argsort(np.mean(observables, axis=1))\n",
    "observables = observables[ind, ...]\n",
    "\n",
    "\n",
    "bf_data = model.config_bayesflow(context, observables)"
   ]
  },
  {
   "cell_type": "markdown",
   "metadata": {},
   "source": [
    "### Estimate classification probabilities with amortized mixture"
   ]
  },
  {
   "cell_type": "code",
   "execution_count": 49,
   "metadata": {},
   "outputs": [],
   "source": [
    "mixture_probs = mixture.amortizer(bf_data)\n",
    "mixture_probs = np.array(mixture_probs)[0,:,1]"
   ]
  },
  {
   "cell_type": "markdown",
   "metadata": {},
   "source": [
    "### Estimate parameters with amortized posterior"
   ]
  },
  {
   "cell_type": "code",
   "execution_count": 50,
   "metadata": {},
   "outputs": [],
   "source": [
    "posterior_parameters = posterior.amortizer.sample(bf_data, n_samples=4000)"
   ]
  },
  {
   "cell_type": "markdown",
   "metadata": {},
   "source": [
    "### Estimate classification probabilities with amortized mixutre posterior"
   ]
  },
  {
   "cell_type": "code",
   "execution_count": 51,
   "metadata": {},
   "outputs": [],
   "source": [
    "post_samples, post_probs = mixture_posterior.amortizer.sample(bf_data, n_samples=4000)\n",
    "mixture_posterior_pars = post_samples[0]\n",
    "mixture_posterior_probs = post_probs[0,:,:,1]"
   ]
  },
  {
   "cell_type": "markdown",
   "metadata": {},
   "source": [
    "### Estimate classification probabilities with Stan"
   ]
  },
  {
   "cell_type": "code",
   "execution_count": 52,
   "metadata": {},
   "outputs": [
    {
     "name": "stderr",
     "output_type": "stream",
     "text": [
      "DEBUG:cmdstanpy:found newer exe file, not recompiling\n"
     ]
    }
   ],
   "source": [
    "stan_model = CmdStanModel(stan_file=os.path.join('..', '..', 'stan', 'normal-mixture.stan'))"
   ]
  },
  {
   "cell_type": "code",
   "execution_count": 53,
   "metadata": {},
   "outputs": [],
   "source": [
    "stan_data = {\n",
    "    \"n_obs\": context['n_obs'],\n",
    "    \"n_rep\": context['n_rep'],\n",
    "    \"n_cls\": model.n_cls,\n",
    "    \"y\": observables,\n",
    "    \"separation\": model.separation,\n",
    "    \"alpha\": model.alpha\n",
    "}"
   ]
  },
  {
   "cell_type": "code",
   "execution_count": 54,
   "metadata": {},
   "outputs": [
    {
     "name": "stderr",
     "output_type": "stream",
     "text": [
      "DEBUG:cmdstanpy:cmd: /Users/simonkucharsky/projects/bayesflow/amortized-mixture/stan/normal-mixture info\n",
      "cwd: None\n",
      "DEBUG:cmdstanpy:input tempfile: /var/folders/vn/tvq3_rgx63795x08zmwtn_rr0000gn/T/tmpxtfgya_6/rvlmjwn7.json\n",
      "17:31:15 - cmdstanpy - INFO - CmdStan start processing\n",
      "INFO:cmdstanpy:CmdStan start processing\n",
      "chain 1 |\u001b[33m          \u001b[0m| 00:00 Status\n",
      "\u001b[A\n",
      "\n",
      "\u001b[A\u001b[ADEBUG:cmdstanpy:idx 0\n",
      "DEBUG:cmdstanpy:idx 1\n",
      "DEBUG:cmdstanpy:running CmdStan, num_threads: 1\n",
      "DEBUG:cmdstanpy:idx 2\n",
      "DEBUG:cmdstanpy:running CmdStan, num_threads: 1\n",
      "DEBUG:cmdstanpy:idx 3\n",
      "DEBUG:cmdstanpy:CmdStan args: ['/Users/simonkucharsky/projects/bayesflow/amortized-mixture/stan/normal-mixture', 'id=1', 'random', 'seed=13691', 'data', 'file=/var/folders/vn/tvq3_rgx63795x08zmwtn_rr0000gn/T/tmpxtfgya_6/rvlmjwn7.json', 'output', 'file=/var/folders/vn/tvq3_rgx63795x08zmwtn_rr0000gn/T/tmpxtfgya_6/normal-mixture09ljbhlt/normal-mixture-20240508173115_1.csv', 'method=sample', 'algorithm=hmc', 'adapt', 'engaged=1', 'delta=0.95']\n",
      "DEBUG:cmdstanpy:running CmdStan, num_threads: 1\n",
      "DEBUG:cmdstanpy:CmdStan args: ['/Users/simonkucharsky/projects/bayesflow/amortized-mixture/stan/normal-mixture', 'id=2', 'random', 'seed=13691', 'data', 'file=/var/folders/vn/tvq3_rgx63795x08zmwtn_rr0000gn/T/tmpxtfgya_6/rvlmjwn7.json', 'output', 'file=/var/folders/vn/tvq3_rgx63795x08zmwtn_rr0000gn/T/tmpxtfgya_6/normal-mixture09ljbhlt/normal-mixture-20240508173115_2.csv', 'method=sample', 'algorithm=hmc', 'adapt', 'engaged=1', 'delta=0.95']\n",
      "DEBUG:cmdstanpy:running CmdStan, num_threads: 1\n",
      "DEBUG:cmdstanpy:CmdStan args: ['/Users/simonkucharsky/projects/bayesflow/amortized-mixture/stan/normal-mixture', 'id=3', 'random', 'seed=13691', 'data', 'file=/var/folders/vn/tvq3_rgx63795x08zmwtn_rr0000gn/T/tmpxtfgya_6/rvlmjwn7.json', 'output', 'file=/var/folders/vn/tvq3_rgx63795x08zmwtn_rr0000gn/T/tmpxtfgya_6/normal-mixture09ljbhlt/normal-mixture-20240508173115_3.csv', 'method=sample', 'algorithm=hmc', 'adapt', 'engaged=1', 'delta=0.95']\n",
      "DEBUG:cmdstanpy:CmdStan args: ['/Users/simonkucharsky/projects/bayesflow/amortized-mixture/stan/normal-mixture', 'id=4', 'random', 'seed=13691', 'data', 'file=/var/folders/vn/tvq3_rgx63795x08zmwtn_rr0000gn/T/tmpxtfgya_6/rvlmjwn7.json', 'output', 'file=/var/folders/vn/tvq3_rgx63795x08zmwtn_rr0000gn/T/tmpxtfgya_6/normal-mixture09ljbhlt/normal-mixture-20240508173115_4.csv', 'method=sample', 'algorithm=hmc', 'adapt', 'engaged=1', 'delta=0.95']\n",
      "\n",
      "\u001b[A\n",
      "\n",
      "chain 1 |\u001b[33m█▊        \u001b[0m| 00:00 Iteration:  200 / 2000 [ 10%]  (Warmup)\n",
      "chain 1 |\u001b[33m███▋      \u001b[0m| 00:00 Iteration:  600 / 2000 [ 30%]  (Warmup)\n",
      "\n",
      "chain 1 |\u001b[34m█████▉    \u001b[0m| 00:00 Iteration: 1001 / 2000 [ 50%]  (Sampling)\n",
      "\n",
      "\u001b[A\u001b[A\n",
      "\u001b[A\n",
      "chain 1 |\u001b[34m████████▏ \u001b[0m| 00:00 Iteration: 1500 / 2000 [ 75%]  (Sampling)\n",
      "\n",
      "\u001b[A\u001b[A\n",
      "chain 1 |\u001b[34m██████████\u001b[0m| 00:00 Iteration: 1900 / 2000 [ 95%]  (Sampling)\n",
      "\n",
      "chain 1 |\u001b[34m██████████\u001b[0m| 00:00 Sampling completed                       \n",
      "chain 2 |\u001b[34m██████████\u001b[0m| 00:00 Sampling completed                       \n",
      "chain 3 |\u001b[34m██████████\u001b[0m| 00:00 Sampling completed                       \n",
      "chain 4 |\u001b[34m██████████\u001b[0m| 00:00 Sampling completed                       "
     ]
    },
    {
     "name": "stdout",
     "output_type": "stream",
     "text": [
      "                                                                                                                                                                                                                                                                                                                                "
     ]
    },
    {
     "name": "stderr",
     "output_type": "stream",
     "text": [
      "\n",
      "17:31:16 - cmdstanpy - INFO - CmdStan done processing.\n",
      "INFO:cmdstanpy:CmdStan done processing.\n",
      "DEBUG:cmdstanpy:runset\n",
      "RunSet: chains=4, chain_ids=[1, 2, 3, 4], num_processes=4\n",
      " cmd (chain 1):\n",
      "\t['/Users/simonkucharsky/projects/bayesflow/amortized-mixture/stan/normal-mixture', 'id=1', 'random', 'seed=13691', 'data', 'file=/var/folders/vn/tvq3_rgx63795x08zmwtn_rr0000gn/T/tmpxtfgya_6/rvlmjwn7.json', 'output', 'file=/var/folders/vn/tvq3_rgx63795x08zmwtn_rr0000gn/T/tmpxtfgya_6/normal-mixture09ljbhlt/normal-mixture-20240508173115_1.csv', 'method=sample', 'algorithm=hmc', 'adapt', 'engaged=1', 'delta=0.95']\n",
      " retcodes=[0, 0, 0, 0]\n",
      " per-chain output files (showing chain 1 only):\n",
      " csv_file:\n",
      "\t/var/folders/vn/tvq3_rgx63795x08zmwtn_rr0000gn/T/tmpxtfgya_6/normal-mixture09ljbhlt/normal-mixture-20240508173115_1.csv\n",
      " console_msgs (if any):\n",
      "\t/var/folders/vn/tvq3_rgx63795x08zmwtn_rr0000gn/T/tmpxtfgya_6/normal-mixture09ljbhlt/normal-mixture-20240508173115_0-stdout.txt\n",
      "DEBUG:cmdstanpy:Chain 1 console:\n",
      "method = sample (Default)\n",
      "  sample\n",
      "    num_samples = 1000 (Default)\n",
      "    num_warmup = 1000 (Default)\n",
      "    save_warmup = 0 (Default)\n",
      "    thin = 1 (Default)\n",
      "    adapt\n",
      "      engaged = 1 (Default)\n",
      "      gamma = 0.05 (Default)\n",
      "      delta = 0.95\n",
      "      kappa = 0.75 (Default)\n",
      "      t0 = 10 (Default)\n",
      "      init_buffer = 75 (Default)\n",
      "      term_buffer = 50 (Default)\n",
      "      window = 25 (Default)\n",
      "      save_metric = 0 (Default)\n",
      "    algorithm = hmc (Default)\n",
      "      hmc\n",
      "        engine = nuts (Default)\n",
      "          nuts\n",
      "            max_depth = 10 (Default)\n",
      "        metric = diag_e (Default)\n",
      "        metric_file =  (Default)\n",
      "        stepsize = 1 (Default)\n",
      "        stepsize_jitter = 0 (Default)\n",
      "    num_chains = 1 (Default)\n",
      "id = 1 (Default)\n",
      "data\n",
      "  file = /var/folders/vn/tvq3_rgx63795x08zmwtn_rr0000gn/T/tmpxtfgya_6/rvlmjwn7.json\n",
      "init = 2 (Default)\n",
      "random\n",
      "  seed = 13691\n",
      "output\n",
      "  file = /var/folders/vn/tvq3_rgx63795x08zmwtn_rr0000gn/T/tmpxtfgya_6/normal-mixture09ljbhlt/normal-mixture-20240508173115_1.csv\n",
      "  diagnostic_file =  (Default)\n",
      "  refresh = 100 (Default)\n",
      "  sig_figs = -1 (Default)\n",
      "  profile_file = profile.csv (Default)\n",
      "  save_cmdstan_config = 0 (Default)\n",
      "num_threads = 1 (Default)\n",
      "\n",
      "\n",
      "Gradient evaluation took 5.5e-05 seconds\n",
      "1000 transitions using 10 leapfrog steps per transition would take 0.55 seconds.\n",
      "Adjust your expectations accordingly!\n",
      "\n",
      "\n",
      "Iteration:    1 / 2000 [  0%]  (Warmup)\n",
      "Iteration:  100 / 2000 [  5%]  (Warmup)\n",
      "Iteration:  200 / 2000 [ 10%]  (Warmup)\n",
      "Iteration:  300 / 2000 [ 15%]  (Warmup)\n",
      "Iteration:  400 / 2000 [ 20%]  (Warmup)\n",
      "Iteration:  500 / 2000 [ 25%]  (Warmup)\n",
      "Iteration:  600 / 2000 [ 30%]  (Warmup)\n",
      "Iteration:  700 / 2000 [ 35%]  (Warmup)\n",
      "Iteration:  800 / 2000 [ 40%]  (Warmup)\n",
      "Iteration:  900 / 2000 [ 45%]  (Warmup)\n",
      "Iteration: 1000 / 2000 [ 50%]  (Warmup)\n",
      "Iteration: 1001 / 2000 [ 50%]  (Sampling)\n",
      "Iteration: 1100 / 2000 [ 55%]  (Sampling)\n",
      "Iteration: 1200 / 2000 [ 60%]  (Sampling)\n",
      "Iteration: 1300 / 2000 [ 65%]  (Sampling)\n",
      "Iteration: 1400 / 2000 [ 70%]  (Sampling)\n",
      "Iteration: 1500 / 2000 [ 75%]  (Sampling)\n",
      "Iteration: 1600 / 2000 [ 80%]  (Sampling)\n",
      "Iteration: 1700 / 2000 [ 85%]  (Sampling)\n",
      "Iteration: 1800 / 2000 [ 90%]  (Sampling)\n",
      "Iteration: 1900 / 2000 [ 95%]  (Sampling)\n",
      "Iteration: 2000 / 2000 [100%]  (Sampling)\n",
      "\n",
      " Elapsed Time: 0.275 seconds (Warm-up)\n",
      "               0.351 seconds (Sampling)\n",
      "               0.626 seconds (Total)\n",
      "\n",
      "\n"
     ]
    },
    {
     "name": "stdout",
     "output_type": "stream",
     "text": [
      "\n"
     ]
    }
   ],
   "source": [
    "stan_fit = stan_model.sample(stan_data, adapt_delta=0.95)"
   ]
  },
  {
   "cell_type": "code",
   "execution_count": 55,
   "metadata": {},
   "outputs": [
    {
     "name": "stderr",
     "output_type": "stream",
     "text": [
      "DEBUG:cmdstanpy:cmd: /Users/simonkucharsky/.cmdstan/cmdstan-2.34.1/bin/diagnose /var/folders/vn/tvq3_rgx63795x08zmwtn_rr0000gn/T/tmpxtfgya_6/normal-mixture09ljbhlt/normal-mixture-20240508173115_1.csv /var/folders/vn/tvq3_rgx63795x08zmwtn_rr0000gn/T/tmpxtfgya_6/normal-mixture09ljbhlt/normal-mixture-20240508173115_2.csv /var/folders/vn/tvq3_rgx63795x08zmwtn_rr0000gn/T/tmpxtfgya_6/normal-mixture09ljbhlt/normal-mixture-20240508173115_3.csv /var/folders/vn/tvq3_rgx63795x08zmwtn_rr0000gn/T/tmpxtfgya_6/normal-mixture09ljbhlt/normal-mixture-20240508173115_4.csv\n",
      "cwd: None\n"
     ]
    },
    {
     "name": "stdout",
     "output_type": "stream",
     "text": [
      "Processing csv files: /var/folders/vn/tvq3_rgx63795x08zmwtn_rr0000gn/T/tmpxtfgya_6/normal-mixture09ljbhlt/normal-mixture-20240508173115_1.csv, /var/folders/vn/tvq3_rgx63795x08zmwtn_rr0000gn/T/tmpxtfgya_6/normal-mixture09ljbhlt/normal-mixture-20240508173115_2.csv, /var/folders/vn/tvq3_rgx63795x08zmwtn_rr0000gn/T/tmpxtfgya_6/normal-mixture09ljbhlt/normal-mixture-20240508173115_3.csv, /var/folders/vn/tvq3_rgx63795x08zmwtn_rr0000gn/T/tmpxtfgya_6/normal-mixture09ljbhlt/normal-mixture-20240508173115_4.csv\n",
      "\n",
      "Checking sampler transitions treedepth.\n",
      "Treedepth satisfactory for all transitions.\n",
      "\n",
      "Checking sampler transitions for divergences.\n",
      "No divergent transitions found.\n",
      "\n",
      "Checking E-BFMI - sampler transitions HMC potential energy.\n",
      "E-BFMI satisfactory.\n",
      "\n",
      "Effective sample size satisfactory.\n",
      "\n",
      "Split R-hat values satisfactory all parameters.\n",
      "\n",
      "Processing complete, no problems detected.\n",
      "\n"
     ]
    }
   ],
   "source": [
    "print(stan_fit.diagnose())"
   ]
  },
  {
   "cell_type": "code",
   "execution_count": 56,
   "metadata": {},
   "outputs": [],
   "source": [
    "stan_probs=stan_fit.draws_pd(vars=[\"class_membership\"])\n",
    "stan_probs=stan_probs.iloc[:,stan_data['n_obs']:]\n",
    "stan_probs=np.array(stan_probs)"
   ]
  },
  {
   "cell_type": "markdown",
   "metadata": {},
   "source": [
    "### Compare results"
   ]
  },
  {
   "cell_type": "code",
   "execution_count": 57,
   "metadata": {},
   "outputs": [
    {
     "data": {
      "image/png": "[encoded data removed]",
      "text/plain": [
       "<Figure size 640x480 with 1 Axes>"
      ]
     },
     "metadata": {},
     "output_type": "display_data"
    }
   ],
   "source": [
    "plot_bands(np.mean(observables, axis=1), mixture_posterior_probs, color=\"blue\", alpha=0.2)\n",
    "plot_bands(np.mean(observables, axis=1), stan_probs, color=\"red\", alpha=0.2)\n",
    "#plt.scatter(np.mean(observables, axis=1), mixture_probs, color=\"green\", alpha=0.2, marker=\".\")\n",
    "plt.xlabel(\"Observations\")\n",
    "f=plt.ylabel(\"P(S = 1)\")"
   ]
  },
  {
   "cell_type": "code",
   "execution_count": 58,
   "metadata": {},
   "outputs": [],
   "source": [
    "stan_p = np.array(stan_fit.draws_pd(vars=\"p\"))\n",
    "mixture_posterior_p = model.extract_pars(mixture_posterior_pars)['p']\n",
    "posterior_p = model.extract_pars(posterior_parameters)['p']"
   ]
  },
  {
   "cell_type": "code",
   "execution_count": 59,
   "metadata": {},
   "outputs": [
    {
     "data": {
      "image/png": "[encoded data removed]",
      "text/plain": [
       "<Figure size 640x480 with 2 Axes>"
      ]
     },
     "metadata": {},
     "output_type": "display_data"
    }
   ],
   "source": [
    "for i in range(2):\n",
    "    plt.subplot(2, 2, i+1)\n",
    "    f=plt.hist(mixture_posterior_p[:,i], alpha=0.3, color=\"blue\", bins = np.linspace(0, 1, 40), density=True)\n",
    "    #f=plt.hist(posterior_p[:,i], alpha=0.3, color=\"green\", bins = np.linspace(0, 1, 40), density=True)\n",
    "    f=plt.hist(stan_p[:,i], alpha=0.3, color=\"red\", bins = np.linspace(0, 1, 40), density=True)"
   ]
  },
  {
   "cell_type": "code",
   "execution_count": 60,
   "metadata": {},
   "outputs": [
    {
     "data": {
      "image/png": "[encoded data removed]",
      "text/plain": [
       "<Figure size 640x480 with 2 Axes>"
      ]
     },
     "metadata": {},
     "output_type": "display_data"
    }
   ],
   "source": [
    "stan_mu = np.array(stan_fit.draws_pd(vars=\"mu\"))\n",
    "mixture_posterior_mu = model.extract_pars(mixture_posterior_pars)['mu']\n",
    "posterior_mu = model.extract_pars(posterior_parameters)['mu']\n",
    "for i in range(2):\n",
    "    plt.subplot(2, 2, i+1)\n",
    "    f=plt.hist(mixture_posterior_mu[:,i], alpha=0.3, color=\"blue\", bins=np.linspace(-3, 3, 50), density=True)\n",
    "    #f=plt.hist(posterior_mu[:,i], alpha=0.3, color=\"green\", bins=np.linspace(-3, 3, 50), density=True)\n",
    "    f=plt.hist(stan_mu[:,i], alpha=0.3, color=\"red\", bins=np.linspace(-3, 3, 50), density=True)"
   ]
  }
 ],
 "metadata": {
  "kernelspec": {
   "display_name": ".venv",
   "language": "python",
   "name": "python3"
  },
  "language_info": {
   "codemirror_mode": {
    "name": "ipython",
    "version": 3
   },
   "file_extension": ".py",
   "mimetype": "text/x-python",
   "name": "python",
   "nbconvert_exporter": "python",
   "pygments_lexer": "ipython3",
   "version": "3.11.6"
  }
 },
 "nbformat": 4,
 "nbformat_minor": 2
}
