{
 "cells": [
  {
   "cell_type": "code",
   "execution_count": 1,
   "metadata": {},
   "outputs": [
    {
     "name": "stderr",
     "output_type": "stream",
     "text": [
      "/Users/simonkucharsky/projects/bayesflow/amortized-mixture/.venv/lib/python3.11/site-packages/bayesflow/trainers.py:27: TqdmWarning: IProgress not found. Please update jupyter and ipywidgets. See https://ipywidgets.readthedocs.io/en/stable/user_install.html\n",
      "  from tqdm.autonotebook import tqdm\n"
     ]
    }
   ],
   "source": [
    "import os, sys\n",
    "# for accessing src, stan, etc.\n",
    "sys.path.append(os.path.abspath(os.path.join(\"../..\")))\n",
    "\n",
    "import bayesflow as bf\n",
    "import numpy as np\n",
    "import matplotlib.pyplot as plt\n",
    "from cmdstanpy import CmdStanModel\n",
    "from src.AmortizedMixture import *\n",
    "from src.models.NormalMixture import *"
   ]
  },
  {
   "cell_type": "code",
   "execution_count": 2,
   "metadata": {},
   "outputs": [],
   "source": [
    "# load the generative model\n",
    "model=NormalMixture(n_cls=2, seed=4332)    "
   ]
  },
  {
   "cell_type": "markdown",
   "metadata": {},
   "source": [
    "# Load pretrained amortizers\n",
    "\n",
    "## Load Amortized Mixture"
   ]
  },
  {
   "cell_type": "code",
   "execution_count": 3,
   "metadata": {},
   "outputs": [
    {
     "name": "stderr",
     "output_type": "stream",
     "text": [
      "INFO:root:Loaded loss history from checkpoints/mixture/history_20.pkl.\n",
      "INFO:root:Networks loaded from checkpoints/mixture/ckpt-20\n",
      "INFO:root:Performing a consistency check with provided components...\n",
      "INFO:root:Done.\n"
     ]
    }
   ],
   "source": [
    "mixture = bf.trainers.Trainer(\n",
    "    amortizer=AmortizedMixture(\n",
    "        inference_net=IndependentClassificator(num_outputs=model.n_cls),\n",
    "        local_summary_net  = bf.networks.DeepSet(summary_dim=2),\n",
    "        global_summary_net = bf.networks.DeepSet(summary_dim=model.n_cls*2*2)\n",
    "        ), \n",
    "    generative_model=model, \n",
    "    configurator=lambda x: x, checkpoint_path=\"checkpoints/mixture\")"
   ]
  },
  {
   "cell_type": "markdown",
   "metadata": {},
   "source": [
    "## Load Amortized Mixture Posterior"
   ]
  },
  {
   "cell_type": "code",
   "execution_count": 4,
   "metadata": {},
   "outputs": [
    {
     "name": "stderr",
     "output_type": "stream",
     "text": [
      "INFO:root:Loaded loss history from checkpoints/mixture_posterior/history_20.pkl.\n",
      "INFO:root:Networks loaded from checkpoints/mixture_posterior/ckpt-20\n",
      "INFO:root:Performing a consistency check with provided components...\n",
      "INFO:root:Done.\n"
     ]
    }
   ],
   "source": [
    "local_summary_net = bf.networks.DeepSet(summary_dim=2)\n",
    "global_summary_net = bf.networks.DeepSet(summary_dim=model.n_cls*2*2)\n",
    "mixture_posterior = bf.trainers.Trainer(\n",
    "    amortizer=AmortizedMixturePosterior(\n",
    "        amortized_mixture=AmortizedMixture(\n",
    "            inference_net=IndependentClassificator(num_outputs=model.n_cls),\n",
    "            local_summary_net=local_summary_net\n",
    "        ),\n",
    "        amortized_posterior=bf.amortizers.AmortizedPosterior(\n",
    "            inference_net=bf.networks.InvertibleNetwork(num_params=model.n_cls*2), \n",
    "            summary_net=bf.networks.HierarchicalNetwork([local_summary_net, global_summary_net])\n",
    "        )\n",
    "    ), \n",
    "    generative_model=model, \n",
    "    configurator=lambda x: x, \n",
    "    checkpoint_path=\"checkpoints/mixture_posterior\")"
   ]
  },
  {
   "cell_type": "markdown",
   "metadata": {},
   "source": [
    "## Experiment: Calibration of classification probabilities"
   ]
  },
  {
   "cell_type": "code",
   "execution_count": 5,
   "metadata": {},
   "outputs": [],
   "source": [
    "# generate synthetic data from a normal mixture with \n",
    "# 25% in class 1 and 75% in class 2\n",
    "# mu_1=-1 and mu_2=1\n",
    "parameters = {\n",
    "    \"p\": np.array([0.25, 0.75]),\n",
    "    \"mu\": np.array([-1.0, 1.0])\n",
    "}\n",
    "context = {\n",
    "    \"n_obs\": 200,\n",
    "    \"n_rep\": 1\n",
    "}\n",
    "latents, observables = model._simulator(\n",
    "    parameters=parameters, \n",
    "    context=context).values()\n",
    "\n",
    "# let's order the observables\n",
    "ind = np.argsort(np.mean(observables, axis=1))\n",
    "observables = observables[ind, ...]"
   ]
  },
  {
   "cell_type": "code",
   "execution_count": 6,
   "metadata": {},
   "outputs": [],
   "source": [
    "bf_data = model.config_bayesflow(context, observables)"
   ]
  },
  {
   "cell_type": "markdown",
   "metadata": {},
   "source": [
    "### Estimate classification probabilities with amortized mixture"
   ]
  },
  {
   "cell_type": "code",
   "execution_count": 7,
   "metadata": {},
   "outputs": [],
   "source": [
    "mixture_probs = mixture.amortizer(bf_data)\n",
    "mixture_probs = np.array(mixture_probs)[0,:,1]"
   ]
  },
  {
   "cell_type": "markdown",
   "metadata": {},
   "source": [
    "### Estimate classification probabilities with amortized mixutre posterior"
   ]
  },
  {
   "cell_type": "code",
   "execution_count": 8,
   "metadata": {},
   "outputs": [],
   "source": [
    "post_samples, post_probs = mixture_posterior.amortizer.sample(bf_data, n_samples=1000)\n",
    "mixture_posterior_probs = post_probs[0,:,:,1]"
   ]
  },
  {
   "cell_type": "code",
   "execution_count": 9,
   "metadata": {},
   "outputs": [
    {
     "data": {
      "text/plain": [
       "(1000, 200)"
      ]
     },
     "execution_count": 9,
     "metadata": {},
     "output_type": "execute_result"
    }
   ],
   "source": [
    "mixture_posterior_probs.shape"
   ]
  },
  {
   "cell_type": "markdown",
   "metadata": {},
   "source": [
    "### Estimate classification probabilities with Stan"
   ]
  },
  {
   "cell_type": "code",
   "execution_count": 10,
   "metadata": {},
   "outputs": [
    {
     "name": "stderr",
     "output_type": "stream",
     "text": [
      "DEBUG:cmdstanpy:found newer exe file, not recompiling\n"
     ]
    }
   ],
   "source": [
    "stan_model = CmdStanModel(stan_file=os.path.join('..', '..', 'stan', 'normal-mixture.stan'))"
   ]
  },
  {
   "cell_type": "code",
   "execution_count": 11,
   "metadata": {},
   "outputs": [],
   "source": [
    "stan_data = {\n",
    "    \"n_obs\": context['n_obs'],\n",
    "    \"n_rep\": context['n_rep'],\n",
    "    \"n_cls\": model.n_cls,\n",
    "    \"y\": observables[:,0],\n",
    "    \"prior_scale\": 1.0,\n",
    "    \"alpha\": [1, 1]\n",
    "}"
   ]
  },
  {
   "cell_type": "code",
   "execution_count": 12,
   "metadata": {},
   "outputs": [
    {
     "name": "stderr",
     "output_type": "stream",
     "text": [
      "DEBUG:cmdstanpy:cmd: /Users/simonkucharsky/projects/bayesflow/amortized-mixture/stan/normal-mixture info\n",
      "cwd: None\n",
      "DEBUG:cmdstanpy:input tempfile: /var/folders/vn/tvq3_rgx63795x08zmwtn_rr0000gn/T/tmpcl6lz_nv/oscc9x3r.json\n",
      "16:47:31 - cmdstanpy - INFO - CmdStan start processing\n",
      "INFO:cmdstanpy:CmdStan start processing\n",
      "chain 1 |\u001b[33m          \u001b[0m| 00:00 Status\n",
      "\u001b[A\n",
      "\n",
      "\u001b[A\u001b[ADEBUG:cmdstanpy:idx 0\n",
      "DEBUG:cmdstanpy:idx 1\n",
      "DEBUG:cmdstanpy:idx 2\n",
      "DEBUG:cmdstanpy:running CmdStan, num_threads: 1\n",
      "DEBUG:cmdstanpy:idx 3\n",
      "DEBUG:cmdstanpy:running CmdStan, num_threads: 1\n",
      "DEBUG:cmdstanpy:running CmdStan, num_threads: 1\n",
      "DEBUG:cmdstanpy:CmdStan args: ['/Users/simonkucharsky/projects/bayesflow/amortized-mixture/stan/normal-mixture', 'id=1', 'random', 'seed=97961', 'data', 'file=/var/folders/vn/tvq3_rgx63795x08zmwtn_rr0000gn/T/tmpcl6lz_nv/oscc9x3r.json', 'output', 'file=/var/folders/vn/tvq3_rgx63795x08zmwtn_rr0000gn/T/tmpcl6lz_nv/normal-mixturet231r_3y/normal-mixture-20240423164731_1.csv', 'method=sample', 'algorithm=hmc', 'adapt', 'engaged=1', 'delta=0.95']\n",
      "DEBUG:cmdstanpy:running CmdStan, num_threads: 1\n",
      "DEBUG:cmdstanpy:CmdStan args: ['/Users/simonkucharsky/projects/bayesflow/amortized-mixture/stan/normal-mixture', 'id=2', 'random', 'seed=97961', 'data', 'file=/var/folders/vn/tvq3_rgx63795x08zmwtn_rr0000gn/T/tmpcl6lz_nv/oscc9x3r.json', 'output', 'file=/var/folders/vn/tvq3_rgx63795x08zmwtn_rr0000gn/T/tmpcl6lz_nv/normal-mixturet231r_3y/normal-mixture-20240423164731_2.csv', 'method=sample', 'algorithm=hmc', 'adapt', 'engaged=1', 'delta=0.95']\n",
      "DEBUG:cmdstanpy:CmdStan args: ['/Users/simonkucharsky/projects/bayesflow/amortized-mixture/stan/normal-mixture', 'id=3', 'random', 'seed=97961', 'data', 'file=/var/folders/vn/tvq3_rgx63795x08zmwtn_rr0000gn/T/tmpcl6lz_nv/oscc9x3r.json', 'output', 'file=/var/folders/vn/tvq3_rgx63795x08zmwtn_rr0000gn/T/tmpcl6lz_nv/normal-mixturet231r_3y/normal-mixture-20240423164731_3.csv', 'method=sample', 'algorithm=hmc', 'adapt', 'engaged=1', 'delta=0.95']\n",
      "DEBUG:cmdstanpy:CmdStan args: ['/Users/simonkucharsky/projects/bayesflow/amortized-mixture/stan/normal-mixture', 'id=4', 'random', 'seed=97961', 'data', 'file=/var/folders/vn/tvq3_rgx63795x08zmwtn_rr0000gn/T/tmpcl6lz_nv/oscc9x3r.json', 'output', 'file=/var/folders/vn/tvq3_rgx63795x08zmwtn_rr0000gn/T/tmpcl6lz_nv/normal-mixturet231r_3y/normal-mixture-20240423164731_4.csv', 'method=sample', 'algorithm=hmc', 'adapt', 'engaged=1', 'delta=0.95']\n",
      "\n",
      "\n",
      "chain 1 |\u001b[33m█▎        \u001b[0m| 00:00 Iteration:  100 / 2000 [  5%]  (Warmup)\n",
      "\u001b[A\n",
      "\n",
      "chain 1 |\u001b[33m██▎       \u001b[0m| 00:00 Iteration:  300 / 2000 [ 15%]  (Warmup)\n",
      "\u001b[A\n",
      "\n",
      "\u001b[A\u001b[A\n",
      "chain 1 |\u001b[33m███▏      \u001b[0m| 00:00 Iteration:  500 / 2000 [ 25%]  (Warmup)\n",
      "\n",
      "chain 1 |\u001b[33m████      \u001b[0m| 00:00 Iteration:  700 / 2000 [ 35%]  (Warmup)\n",
      "\u001b[A\n",
      "\n",
      "\u001b[A\u001b[A\n",
      "chain 1 |\u001b[33m█████     \u001b[0m| 00:00 Iteration:  900 / 2000 [ 45%]  (Warmup)\n",
      "\u001b[A\n",
      "\n",
      "chain 1 |\u001b[34m██████▎   \u001b[0m| 00:00 Iteration: 1100 / 2000 [ 55%]  (Sampling)\n",
      "\u001b[A\n",
      "\n",
      "chain 1 |\u001b[34m███████▎  \u001b[0m| 00:01 Iteration: 1300 / 2000 [ 65%]  (Sampling)\n",
      "\u001b[A\n",
      "\n",
      "chain 1 |\u001b[34m████████▏ \u001b[0m| 00:01 Iteration: 1500 / 2000 [ 75%]  (Sampling)\n",
      "\u001b[A\n",
      "\n",
      "chain 1 |\u001b[34m█████████ \u001b[0m| 00:01 Iteration: 1700 / 2000 [ 85%]  (Sampling)\n",
      "\u001b[A\n",
      "\n",
      "chain 1 |\u001b[34m██████████\u001b[0m| 00:01 Sampling completed                       \n",
      "chain 2 |\u001b[34m██████████\u001b[0m| 00:01 Sampling completed                       \n",
      "chain 3 |\u001b[34m██████████\u001b[0m| 00:01 Sampling completed                       \n",
      "chain 4 |\u001b[34m██████████\u001b[0m| 00:01 Sampling completed                       "
     ]
    },
    {
     "name": "stdout",
     "output_type": "stream",
     "text": [
      "                                                                                                                                                                                                                                                                                                                                "
     ]
    },
    {
     "name": "stderr",
     "output_type": "stream",
     "text": [
      "\n",
      "16:47:32 - cmdstanpy - INFO - CmdStan done processing.\n",
      "INFO:cmdstanpy:CmdStan done processing.\n",
      "DEBUG:cmdstanpy:runset\n",
      "RunSet: chains=4, chain_ids=[1, 2, 3, 4], num_processes=4\n",
      " cmd (chain 1):\n",
      "\t['/Users/simonkucharsky/projects/bayesflow/amortized-mixture/stan/normal-mixture', 'id=1', 'random', 'seed=97961', 'data', 'file=/var/folders/vn/tvq3_rgx63795x08zmwtn_rr0000gn/T/tmpcl6lz_nv/oscc9x3r.json', 'output', 'file=/var/folders/vn/tvq3_rgx63795x08zmwtn_rr0000gn/T/tmpcl6lz_nv/normal-mixturet231r_3y/normal-mixture-20240423164731_1.csv', 'method=sample', 'algorithm=hmc', 'adapt', 'engaged=1', 'delta=0.95']\n",
      " retcodes=[0, 0, 0, 0]\n",
      " per-chain output files (showing chain 1 only):\n",
      " csv_file:\n",
      "\t/var/folders/vn/tvq3_rgx63795x08zmwtn_rr0000gn/T/tmpcl6lz_nv/normal-mixturet231r_3y/normal-mixture-20240423164731_1.csv\n",
      " console_msgs (if any):\n",
      "\t/var/folders/vn/tvq3_rgx63795x08zmwtn_rr0000gn/T/tmpcl6lz_nv/normal-mixturet231r_3y/normal-mixture-20240423164731_0-stdout.txt\n",
      "DEBUG:cmdstanpy:Chain 1 console:\n",
      "method = sample (Default)\n",
      "  sample\n",
      "    num_samples = 1000 (Default)\n",
      "    num_warmup = 1000 (Default)\n",
      "    save_warmup = 0 (Default)\n",
      "    thin = 1 (Default)\n",
      "    adapt\n",
      "      engaged = 1 (Default)\n",
      "      gamma = 0.05 (Default)\n",
      "      delta = 0.95\n",
      "      kappa = 0.75 (Default)\n",
      "      t0 = 10 (Default)\n",
      "      init_buffer = 75 (Default)\n",
      "      term_buffer = 50 (Default)\n",
      "      window = 25 (Default)\n",
      "      save_metric = 0 (Default)\n",
      "    algorithm = hmc (Default)\n",
      "      hmc\n",
      "        engine = nuts (Default)\n",
      "          nuts\n",
      "            max_depth = 10 (Default)\n",
      "        metric = diag_e (Default)\n",
      "        metric_file =  (Default)\n",
      "        stepsize = 1 (Default)\n",
      "        stepsize_jitter = 0 (Default)\n",
      "    num_chains = 1 (Default)\n",
      "id = 1 (Default)\n",
      "data\n",
      "  file = /var/folders/vn/tvq3_rgx63795x08zmwtn_rr0000gn/T/tmpcl6lz_nv/oscc9x3r.json\n",
      "init = 2 (Default)\n",
      "random\n",
      "  seed = 97961\n",
      "output\n",
      "  file = /var/folders/vn/tvq3_rgx63795x08zmwtn_rr0000gn/T/tmpcl6lz_nv/normal-mixturet231r_3y/normal-mixture-20240423164731_1.csv\n",
      "  diagnostic_file =  (Default)\n",
      "  refresh = 100 (Default)\n",
      "  sig_figs = -1 (Default)\n",
      "  profile_file = profile.csv (Default)\n",
      "  save_cmdstan_config = 0 (Default)\n",
      "num_threads = 1 (Default)\n",
      "\n",
      "\n",
      "Gradient evaluation took 8.3e-05 seconds\n",
      "1000 transitions using 10 leapfrog steps per transition would take 0.83 seconds.\n",
      "Adjust your expectations accordingly!\n",
      "\n",
      "\n",
      "Iteration:    1 / 2000 [  0%]  (Warmup)\n",
      "Iteration:  100 / 2000 [  5%]  (Warmup)\n",
      "Iteration:  200 / 2000 [ 10%]  (Warmup)\n",
      "Iteration:  300 / 2000 [ 15%]  (Warmup)\n",
      "Iteration:  400 / 2000 [ 20%]  (Warmup)\n",
      "Iteration:  500 / 2000 [ 25%]  (Warmup)\n",
      "Iteration:  600 / 2000 [ 30%]  (Warmup)\n",
      "Iteration:  700 / 2000 [ 35%]  (Warmup)\n",
      "Iteration:  800 / 2000 [ 40%]  (Warmup)\n",
      "Iteration:  900 / 2000 [ 45%]  (Warmup)\n",
      "Iteration: 1000 / 2000 [ 50%]  (Warmup)\n",
      "Iteration: 1001 / 2000 [ 50%]  (Sampling)\n",
      "Iteration: 1100 / 2000 [ 55%]  (Sampling)\n",
      "Iteration: 1200 / 2000 [ 60%]  (Sampling)\n",
      "Iteration: 1300 / 2000 [ 65%]  (Sampling)\n",
      "Iteration: 1400 / 2000 [ 70%]  (Sampling)\n",
      "Iteration: 1500 / 2000 [ 75%]  (Sampling)\n",
      "Iteration: 1600 / 2000 [ 80%]  (Sampling)\n",
      "Iteration: 1700 / 2000 [ 85%]  (Sampling)\n",
      "Iteration: 1800 / 2000 [ 90%]  (Sampling)\n",
      "Iteration: 1900 / 2000 [ 95%]  (Sampling)\n",
      "Iteration: 2000 / 2000 [100%]  (Sampling)\n",
      "\n",
      " Elapsed Time: 0.755 seconds (Warm-up)\n",
      "               0.796 seconds (Sampling)\n",
      "               1.551 seconds (Total)\n",
      "\n",
      "\n",
      "16:47:32 - cmdstanpy - WARNING - Non-fatal error during sampling:\n",
      "Exception: normal_lpdf: Location parameter is inf, but must be finite! (in 'normal-mixture.stan', line 20, column 12 to column 61)\n",
      "Consider re-running with show_console=True if the above output is unclear!\n",
      "WARNING:cmdstanpy:Non-fatal error during sampling:\n",
      "Exception: normal_lpdf: Location parameter is inf, but must be finite! (in 'normal-mixture.stan', line 20, column 12 to column 61)\n",
      "Consider re-running with show_console=True if the above output is unclear!\n"
     ]
    },
    {
     "name": "stdout",
     "output_type": "stream",
     "text": [
      "\n"
     ]
    }
   ],
   "source": [
    "stan_fit = stan_model.sample(stan_data, adapt_delta=0.95)"
   ]
  },
  {
   "cell_type": "code",
   "execution_count": 13,
   "metadata": {},
   "outputs": [
    {
     "name": "stderr",
     "output_type": "stream",
     "text": [
      "DEBUG:cmdstanpy:cmd: /Users/simonkucharsky/.cmdstan/cmdstan-2.34.1/bin/diagnose /var/folders/vn/tvq3_rgx63795x08zmwtn_rr0000gn/T/tmpcl6lz_nv/normal-mixturet231r_3y/normal-mixture-20240423164731_1.csv /var/folders/vn/tvq3_rgx63795x08zmwtn_rr0000gn/T/tmpcl6lz_nv/normal-mixturet231r_3y/normal-mixture-20240423164731_2.csv /var/folders/vn/tvq3_rgx63795x08zmwtn_rr0000gn/T/tmpcl6lz_nv/normal-mixturet231r_3y/normal-mixture-20240423164731_3.csv /var/folders/vn/tvq3_rgx63795x08zmwtn_rr0000gn/T/tmpcl6lz_nv/normal-mixturet231r_3y/normal-mixture-20240423164731_4.csv\n",
      "cwd: None\n"
     ]
    },
    {
     "name": "stdout",
     "output_type": "stream",
     "text": [
      "Processing csv files: /var/folders/vn/tvq3_rgx63795x08zmwtn_rr0000gn/T/tmpcl6lz_nv/normal-mixturet231r_3y/normal-mixture-20240423164731_1.csv, /var/folders/vn/tvq3_rgx63795x08zmwtn_rr0000gn/T/tmpcl6lz_nv/normal-mixturet231r_3y/normal-mixture-20240423164731_2.csv, /var/folders/vn/tvq3_rgx63795x08zmwtn_rr0000gn/T/tmpcl6lz_nv/normal-mixturet231r_3y/normal-mixture-20240423164731_3.csv, /var/folders/vn/tvq3_rgx63795x08zmwtn_rr0000gn/T/tmpcl6lz_nv/normal-mixturet231r_3y/normal-mixture-20240423164731_4.csv\n",
      "\n",
      "Checking sampler transitions treedepth.\n",
      "Treedepth satisfactory for all transitions.\n",
      "\n",
      "Checking sampler transitions for divergences.\n",
      "No divergent transitions found.\n",
      "\n",
      "Checking E-BFMI - sampler transitions HMC potential energy.\n",
      "E-BFMI satisfactory.\n",
      "\n",
      "Effective sample size satisfactory.\n",
      "\n",
      "Split R-hat values satisfactory all parameters.\n",
      "\n",
      "Processing complete, no problems detected.\n",
      "\n"
     ]
    }
   ],
   "source": [
    "print(stan_fit.diagnose())"
   ]
  },
  {
   "cell_type": "code",
   "execution_count": 14,
   "metadata": {},
   "outputs": [],
   "source": [
    "stan_probs=stan_fit.draws_pd(vars=[\"class_membership\"])\n",
    "stan_probs=stan_probs.iloc[:,stan_data['n_obs']:]\n",
    "stan_probs=np.array(stan_probs)"
   ]
  },
  {
   "cell_type": "markdown",
   "metadata": {},
   "source": [
    "### Compare results"
   ]
  },
  {
   "cell_type": "code",
   "execution_count": 27,
   "metadata": {},
   "outputs": [
    {
     "data": {
      "text/plain": [
       "(200, 1)"
      ]
     },
     "execution_count": 27,
     "metadata": {},
     "output_type": "execute_result"
    }
   ],
   "source": [
    "def plot_bands(x, samples, probs=[0.5, 0.9], color=None, alpha=None, axis=0):\n",
    "    for p in probs:\n",
    "        plt.fill_between(\n",
    "            x,\n",
    "            np.quantile(samples, q=1-p/2.0, axis=axis),\n",
    "            np.quantile(samples, q=p/2.0, axis=axis),\n",
    "            alpha=alpha,\n",
    "            color=color\n",
    "        )"
   ]
  },
  {
   "cell_type": "code",
   "execution_count": 34,
   "metadata": {},
   "outputs": [
    {
     "data": {
      "image/png": "[encoded data removed]",
      "text/plain": [
       "<Figure size 640x480 with 1 Axes>"
      ]
     },
     "metadata": {},
     "output_type": "display_data"
    }
   ],
   "source": [
    "plot_bands(observables[:,0], mixture_posterior_probs, color=\"blue\", alpha=0.2)\n",
    "plot_bands(observables[:,0], stan_probs, color=\"red\", alpha=0.2)\n",
    "plt.scatter(observables[:,0], mixture_probs, color=\"green\", alpha=0.2)\n",
    "plt.xlabel(\"Observations\")\n",
    "f=plt.ylabel(\"P(S = 1)\")"
   ]
  }
 ],
 "metadata": {
  "kernelspec": {
   "display_name": ".venv",
   "language": "python",
   "name": "python3"
  },
  "language_info": {
   "codemirror_mode": {
    "name": "ipython",
    "version": 3
   },
   "file_extension": ".py",
   "mimetype": "text/x-python",
   "name": "python",
   "nbconvert_exporter": "python",
   "pygments_lexer": "ipython3",
   "version": "3.11.6"
  }
 },
 "nbformat": 4,
 "nbformat_minor": 2
}
