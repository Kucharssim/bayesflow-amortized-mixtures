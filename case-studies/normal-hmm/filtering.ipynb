{
 "cells": [
  {
   "cell_type": "code",
   "execution_count": 1,
   "metadata": {},
   "outputs": [
    {
     "name": "stderr",
     "output_type": "stream",
     "text": [
      "/Users/simonkucharsky/projects/bayesflow/amortized-mixture/.venv/lib/python3.11/site-packages/bayesflow/trainers.py:27: TqdmWarning: IProgress not found. Please update jupyter and ipywidgets. See https://ipywidgets.readthedocs.io/en/stable/user_install.html\n",
      "  from tqdm.autonotebook import tqdm\n"
     ]
    }
   ],
   "source": [
    "import os, sys\n",
    "# for accessing src, stan, etc.\n",
    "sys.path.append(os.path.abspath(os.path.join(\"../..\")))\n",
    "\n",
    "import bayesflow as bf\n",
    "import numpy as np\n",
    "from src.AmortizedMixture import *\n",
    "from src.models.NormalHmm import *\n",
    "\n",
    "\n",
    "import matplotlib.pyplot as plt"
   ]
  },
  {
   "cell_type": "code",
   "execution_count": 2,
   "metadata": {},
   "outputs": [],
   "source": [
    "model = NormalHmm(n_cls = 2, n_obs=[100, 100], separation=3.0)\n",
    "model.prior_means = [0.0, 0.0, -1.5, 1.00]\n",
    "model.prior_sds = [1.14,  1.14, 1.0, 0.65]"
   ]
  },
  {
   "cell_type": "code",
   "execution_count": 3,
   "metadata": {},
   "outputs": [],
   "source": [
    "summary_net = bf.networks.SequenceNetwork(summary_dim=model.n_par*2)\n",
    "inference_net = DependentClassificator(num_outputs=model.n_cls, bidirectional=False)\n",
    "amortized_filtering = AmortizedMixture(\n",
    "    inference_net=inference_net, \n",
    "    global_summary_net=summary_net)"
   ]
  },
  {
   "cell_type": "code",
   "execution_count": 4,
   "metadata": {},
   "outputs": [
    {
     "name": "stderr",
     "output_type": "stream",
     "text": [
      "INFO:root:Initialized empty loss history.\n",
      "INFO:root:Initialized networks from scratch.\n",
      "INFO:root:Performing a consistency check with provided components...\n",
      "INFO:root:Done.\n"
     ]
    }
   ],
   "source": [
    "trainer = bf.trainers.Trainer(amortizer=amortized_filtering, generative_model=model, checkpoint_path=\"checkpoints/filtering\", configurator=lambda x: x)"
   ]
  },
  {
   "cell_type": "code",
   "execution_count": 5,
   "metadata": {},
   "outputs": [
    {
     "name": "stderr",
     "output_type": "stream",
     "text": [
      "WARNING:absl:At this time, the v2.11+ optimizer `tf.keras.optimizers.Adam` runs slowly on M1/M2 Macs, please use the legacy Keras optimizer instead, located at `tf.keras.optimizers.legacy.Adam`.\n"
     ]
    },
    {
     "name": "stdout",
     "output_type": "stream",
     "text": [
      "CPU times: user 1 µs, sys: 1e+03 ns, total: 2 µs\n",
      "Wall time: 3.1 µs\n"
     ]
    },
    {
     "name": "stderr",
     "output_type": "stream",
     "text": [
      "Training epoch 1: 100%|██████████| 1000/1000 [02:27<00:00,  6.78it/s, Epoch: 1, Iter: 1000,Loss: 15.631,Avg.Loss: 17.009,LR: 5.00E-04]\n",
      "Training epoch 2: 100%|██████████| 1000/1000 [02:26<00:00,  6.84it/s, Epoch: 2, Iter: 1000,Loss: 13.414,Avg.Loss: 13.538,LR: 4.98E-04]\n",
      "Training epoch 3:  55%|█████▌    | 550/1000 [01:21<01:07,  6.67it/s, Epoch: 3, Iter: 550,Loss: 10.970,Avg.Loss: 12.518,LR: 4.97E-04]"
     ]
    }
   ],
   "source": [
    "%time\n",
    "h = trainer.train_online(epochs=50, iterations_per_epoch=1000, batch_size=32)"
   ]
  },
  {
   "cell_type": "code",
   "execution_count": null,
   "metadata": {},
   "outputs": [],
   "source": [
    "f=bf.diagnostics.plot_losses(h)"
   ]
  }
 ],
 "metadata": {
  "kernelspec": {
   "display_name": ".venv",
   "language": "python",
   "name": "python3"
  },
  "language_info": {
   "codemirror_mode": {
    "name": "ipython",
    "version": 3
   },
   "file_extension": ".py",
   "mimetype": "text/x-python",
   "name": "python",
   "nbconvert_exporter": "python",
   "pygments_lexer": "ipython3",
   "version": "3.11.6"
  }
 },
 "nbformat": 4,
 "nbformat_minor": 2
}
