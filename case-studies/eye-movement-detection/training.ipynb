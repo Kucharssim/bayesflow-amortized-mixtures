{
 "cells": [
  {
   "cell_type": "code",
   "execution_count": null,
   "metadata": {},
   "outputs": [],
   "source": [
    "import os, sys\n",
    "# for accessing src, stan, etc.\n",
    "sys.path.append(os.path.abspath(os.path.join(\"../..\")))\n",
    "\n",
    "from amortizer import trainer\n",
    "from bayesflow.diagnostics import plot_losses\n",
    "from tensorflow.keras.optimizers.legacy import Adam # type: ignore\n",
    "from tensorflow.keras.optimizers.schedules import CosineDecay # type: ignore"
   ]
  },
  {
   "cell_type": "code",
   "execution_count": null,
   "metadata": {},
   "outputs": [],
   "source": [
    "n_data_sets = 1_000\n",
    "offline_data = trainer.generative_model(n_data_sets)"
   ]
  },
  {
   "cell_type": "code",
   "execution_count": null,
   "metadata": {},
   "outputs": [],
   "source": [
    "%time\n",
    "epochs = 10\n",
    "batch_size=32\n",
    "iterations_per_epoch = int(n_data_sets/batch_size)\n",
    "schedule = CosineDecay(0.005, epochs * iterations_per_epoch, name = \"lr_decay\")\n",
    "optimizer = Adam(schedule, global_clipnorm = 1.0)\n",
    "h=trainer.train_offline(simulations_dict=offline_data, epochs=epochs, batch_size=batch_size, validation_sims=200, optimizer=optimizer)"
   ]
  },
  {
   "cell_type": "code",
   "execution_count": null,
   "metadata": {},
   "outputs": [],
   "source": [
    "f=plot_losses(h)"
   ]
  }
 ],
 "metadata": {
  "kernelspec": {
   "display_name": ".venv",
   "language": "python",
   "name": "python3"
  },
  "language_info": {
   "codemirror_mode": {
    "name": "ipython",
    "version": 3
   },
   "file_extension": ".py",
   "mimetype": "text/x-python",
   "name": "python",
   "nbconvert_exporter": "python",
   "pygments_lexer": "ipython3",
   "version": "3.11.6"
  }
 },
 "nbformat": 4,
 "nbformat_minor": 2
}
